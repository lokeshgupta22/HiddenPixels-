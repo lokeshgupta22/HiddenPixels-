{
 "cells": [
  {
   "cell_type": "code",
   "execution_count": 9,
   "metadata": {},
   "outputs": [],
   "source": [
    "import csv\n",
    "from PIL import Image\n",
    "import numpy as np\n",
    "import os"
   ]
  },
  {
   "cell_type": "code",
   "execution_count": 10,
   "metadata": {},
   "outputs": [
    {
     "name": "stdout",
     "output_type": "stream",
     "text": [
      "Array shape: (551, 414, 3)\n",
      "[[[207 205 193]\n",
      "  [203 201 189]\n",
      "  [170 168 156]\n",
      "  ...\n",
      "  [159 159 159]\n",
      "  [228 227 232]\n",
      "  [227 226 231]]\n",
      "\n",
      " [[201 199 187]\n",
      "  [197 195 183]\n",
      "  [211 209 197]\n",
      "  ...\n",
      "  [162 162 162]\n",
      "  [228 227 232]\n",
      "  [227 226 231]]\n",
      "\n",
      " [[191 189 177]\n",
      "  [209 207 195]\n",
      "  [204 202 190]\n",
      "  ...\n",
      "  [171 171 171]\n",
      "  [230 229 234]\n",
      "  [227 226 231]]\n",
      "\n",
      " ...\n",
      "\n",
      " [[ 38  43  47]\n",
      "  [ 38  43  47]\n",
      "  [ 31  36  40]\n",
      "  ...\n",
      "  [ 31  34  39]\n",
      "  [226 229 234]\n",
      "  [224 227 232]]\n",
      "\n",
      " [[ 18  23  27]\n",
      "  [ 33  38  42]\n",
      "  [ 27  32  36]\n",
      "  ...\n",
      "  [ 29  32  37]\n",
      "  [226 229 234]\n",
      "  [226 229 234]]\n",
      "\n",
      " [[ 31  36  40]\n",
      "  [ 53  58  62]\n",
      "  [ 36  41  45]\n",
      "  ...\n",
      "  [ 34  37  42]\n",
      "  [227 230 235]\n",
      "  [224 227 232]]]\n"
     ]
    }
   ],
   "source": [
    "# Load the image using Pillow\n",
    "image = Image.open(\"noisy.png\")\n",
    "\n",
    "# Convert the image to a NumPy array\n",
    "data = np.array(image)\n",
    "\n",
    "# Print the shape of the array\n",
    "print(\"Array shape:\", data.shape)\n",
    "dim = data.shape\n",
    "print(data)"
   ]
  },
  {
   "cell_type": "code",
   "execution_count": 11,
   "metadata": {},
   "outputs": [
    {
     "data": {
      "text/plain": [
       "(551, 414, 3)"
      ]
     },
     "execution_count": 11,
     "metadata": {},
     "output_type": "execute_result"
    }
   ],
   "source": [
    "newdata=data\n",
    "newdata.shape"
   ]
  },
  {
   "cell_type": "code",
   "execution_count": 12,
   "metadata": {},
   "outputs": [
    {
     "data": {
      "text/plain": [
       "array([[[207, 205, 193],\n",
       "        [203, 201, 189],\n",
       "        [170, 168, 156],\n",
       "        ...,\n",
       "        [159, 159, 159],\n",
       "        [228, 227, 232],\n",
       "        [227, 226, 231]],\n",
       "\n",
       "       [[201, 199, 187],\n",
       "        [197, 195, 183],\n",
       "        [211, 209, 197],\n",
       "        ...,\n",
       "        [162, 162, 162],\n",
       "        [228, 227, 232],\n",
       "        [227, 226, 231]],\n",
       "\n",
       "       [[191, 189, 177],\n",
       "        [209, 207, 195],\n",
       "        [204, 202, 190],\n",
       "        ...,\n",
       "        [171, 171, 171],\n",
       "        [230, 229, 234],\n",
       "        [227, 226, 231]],\n",
       "\n",
       "       ...,\n",
       "\n",
       "       [[ 38,  43,  47],\n",
       "        [ 38,  43,  47],\n",
       "        [ 31,  36,  40],\n",
       "        ...,\n",
       "        [ 31,  34,  39],\n",
       "        [226, 229, 234],\n",
       "        [224, 227, 232]],\n",
       "\n",
       "       [[ 18,  23,  27],\n",
       "        [ 33,  38,  42],\n",
       "        [ 27,  32,  36],\n",
       "        ...,\n",
       "        [ 29,  32,  37],\n",
       "        [226, 229, 234],\n",
       "        [226, 229, 234]],\n",
       "\n",
       "       [[ 31,  36,  40],\n",
       "        [ 53,  58,  62],\n",
       "        [ 36,  41,  45],\n",
       "        ...,\n",
       "        [ 34,  37,  42],\n",
       "        [227, 230, 235],\n",
       "        [224, 227, 232]]], dtype=uint8)"
      ]
     },
     "execution_count": 12,
     "metadata": {},
     "output_type": "execute_result"
    }
   ],
   "source": [
    "# newdata[1,0,0]=70\n",
    "newdata"
   ]
  },
  {
   "cell_type": "code",
   "execution_count": 13,
   "metadata": {},
   "outputs": [],
   "source": [
    "nae=[]"
   ]
  },
  {
   "cell_type": "code",
   "execution_count": 14,
   "metadata": {},
   "outputs": [
    {
     "name": "stdout",
     "output_type": "stream",
     "text": [
      "[203]\n"
     ]
    }
   ],
   "source": [
    "\n",
    "for row in data:\n",
    "    # print(f'{row}\\n\\n{row[0]}\\n\\n{row[0,0]}\\n\\n{row.shape}')\n",
    "    nae.append(data[0,1,0])\n",
    "    print(nae)\n",
    "    break"
   ]
  },
  {
   "cell_type": "code",
   "execution_count": 15,
   "metadata": {},
   "outputs": [
    {
     "name": "stderr",
     "output_type": "stream",
     "text": [
      "sh: start: command not found\n"
     ]
    }
   ],
   "source": [
    "#this is fucking slow way                                        551, 414, 3\n",
    "\n",
    "def writer(data):\n",
    "    file_name = \"encrypted.csv\"\n",
    "    with open(file_name, mode=\"w\", newline=\"\") as csv_file:\n",
    "        \n",
    "    # Create a CSV writer object\n",
    "        writer = csv.writer(csv_file)\n",
    "\n",
    "    # Write the data to the CSV file\n",
    "        for x in range(0,551):\n",
    "            liss=[]\n",
    "            for y in range(0,414):\n",
    "                for z in range(0,3):\n",
    "                    liss.append(data[x,y,z])\n",
    "            writer.writerow(liss)\n",
    "    os.system(f'start excel {file_name}')\n",
    " \n",
    "writer(data)\n",
    "    "
   ]
  },
  {
   "cell_type": "code",
   "execution_count": 16,
   "metadata": {},
   "outputs": [
    {
     "ename": "AttributeError",
     "evalue": "'list' object has no attribute 'apppend'",
     "output_type": "error",
     "traceback": [
      "\u001b[0;31m---------------------------------------------------------------------------\u001b[0m",
      "\u001b[0;31mAttributeError\u001b[0m                            Traceback (most recent call last)",
      "\u001b[1;32m/Users/lokeshgupta/Documents/GitHub/HiddenPixels-/main.ipynb Cell 8\u001b[0m in \u001b[0;36m<cell line: 2>\u001b[0;34m()\u001b[0m\n\u001b[1;32m      <a href='vscode-notebook-cell:/Users/lokeshgupta/Documents/GitHub/HiddenPixels-/main.ipynb#X10sZmlsZQ%3D%3D?line=6'>7</a>\u001b[0m         \u001b[39mfor\u001b[39;00m ele \u001b[39min\u001b[39;00m \u001b[39mrange\u001b[39m(\u001b[39m0\u001b[39m,\u001b[39m2\u001b[39m):    \n\u001b[1;32m      <a href='vscode-notebook-cell:/Users/lokeshgupta/Documents/GitHub/HiddenPixels-/main.ipynb#X10sZmlsZQ%3D%3D?line=7'>8</a>\u001b[0m             x\u001b[39m=\u001b[39mnum[ele]\n\u001b[0;32m----> <a href='vscode-notebook-cell:/Users/lokeshgupta/Documents/GitHub/HiddenPixels-/main.ipynb#X10sZmlsZQ%3D%3D?line=8'>9</a>\u001b[0m             arr\u001b[39m.\u001b[39;49mapppend(x)\n\u001b[1;32m     <a href='vscode-notebook-cell:/Users/lokeshgupta/Documents/GitHub/HiddenPixels-/main.ipynb#X10sZmlsZQ%3D%3D?line=9'>10</a>\u001b[0m         finar\u001b[39m.\u001b[39mappend(arr)\n\u001b[1;32m     <a href='vscode-notebook-cell:/Users/lokeshgupta/Documents/GitHub/HiddenPixels-/main.ipynb#X10sZmlsZQ%3D%3D?line=10'>11</a>\u001b[0m \u001b[39mprint\u001b[39m(finar)\n",
      "\u001b[0;31mAttributeError\u001b[0m: 'list' object has no attribute 'apppend'"
     ]
    }
   ],
   "source": [
    "finar=[]\n",
    "with open(\"encrypted.csv\", mode=\"r\") as csv_file:\n",
    "    num = csv_file.readline(1242)\n",
    "    \n",
    "    for ay in range(0,413):\n",
    "        arr=[]\n",
    "        for ele in range(0,2):    \n",
    "            x=num[ele]\n",
    "            arr.apppend(x)\n",
    "        finar.append(arr)\n",
    "print(finar)"
   ]
  },
  {
   "attachments": {},
   "cell_type": "markdown",
   "metadata": {},
   "source": [
    "(551, 414, 3)"
   ]
  },
  {
   "cell_type": "code",
   "execution_count": null,
   "metadata": {},
   "outputs": [
    {
     "name": "stdout",
     "output_type": "stream",
     "text": [
      "1242\n",
      "0\n"
     ]
    }
   ],
   "source": [
    "\n",
    "pfinar=[]\n",
    "index=0\n",
    "with open(\"encrypted.csv\", mode=\"r\") as csv_file:\n",
    "    num = csv_file.readline()\n",
    "    num = num.split(',')\n",
    "    print(len(num))\n",
    "    rang= int(len(num)/3)\n",
    "    \n",
    "    for rld in range(0,551):\n",
    "        finar=[]\n",
    "        for j in range(rang):\n",
    "\n",
    "            tarr=[]\n",
    "            while index>1242:\n",
    "                for i in range(3):\n",
    "                    print(index)                \n",
    "                    tarr.append(num[index])\n",
    "                    index+=1\n",
    "                finar.append(tarr)\n",
    "            # for x57 in range(0,3)\n",
    "        pfinar.append(finar)\n",
    "    \n",
    "print(len(finar))"
   ]
  },
  {
   "cell_type": "code",
   "execution_count": null,
   "metadata": {},
   "outputs": [
    {
     "name": "stdout",
     "output_type": "stream",
     "text": [
      "1242\n",
      "414\n"
     ]
    }
   ],
   "source": [
    "finar=[]\n",
    "\n",
    "index=0\n",
    "with open(\"encrypted.csv\", mode=\"r\") as csv_file:\n",
    "    num = csv_file.readline()\n",
    "    num = num.split(',')\n",
    "    print(len(num))\n",
    "    rang= int(len(num)/3)\n",
    "    \n",
    "    for j in range(rang):\n",
    "        # print(j)\n",
    "        tarr=[]\n",
    "        for i in range(3):\n",
    "            \n",
    "            tarr.append(num[index])\n",
    "            index+=1\n",
    "        finar.append(tarr)\n",
    "        # for x57 in range(0,3)\n",
    "\n",
    "    \n",
    "print(len(finar))"
   ]
  },
  {
   "cell_type": "code",
   "execution_count": null,
   "metadata": {},
   "outputs": [
    {
     "name": "stdout",
     "output_type": "stream",
     "text": [
      "[]\n"
     ]
    }
   ],
   "source": [
    "\n",
    "dataaa = []\n",
    "with open(\"encrypted.csv\", mode=\"r\") as csv_file:\n",
    "    reader = csv.reader(csv_file)\n",
    "    rows=list(reader)\n",
    "    for row in reader:\n",
    "        # row=np.array(row)\n",
    "        print(row[0,0])    \n",
    "    # for i in range(414):\n",
    "    #     dataaa.append(row[i])\n",
    "        \n",
    "        # dataaa.append([int(cell) for cell in row])\n",
    "# dataaa=np.array(dataaa)\n",
    "print(dataaa)"
   ]
  },
  {
   "cell_type": "code",
   "execution_count": null,
   "metadata": {},
   "outputs": [],
   "source": [
    "writer(data)\n",
    "filename = \"encrypted.csv\""
   ]
  },
  {
   "cell_type": "code",
   "execution_count": null,
   "metadata": {},
   "outputs": [],
   "source": [
    "new_image = Image.fromarray(newdata)\n",
    "\n",
    "# Save the new image to a file\n",
    "new_image.save(\"new_image.png\")"
   ]
  },
  {
   "cell_type": "code",
   "execution_count": null,
   "metadata": {},
   "outputs": [],
   "source": []
  }
 ],
 "metadata": {
  "kernelspec": {
   "display_name": "Python 3",
   "language": "python",
   "name": "python3"
  },
  "language_info": {
   "codemirror_mode": {
    "name": "ipython",
    "version": 3
   },
   "file_extension": ".py",
   "mimetype": "text/x-python",
   "name": "python",
   "nbconvert_exporter": "python",
   "pygments_lexer": "ipython3",
   "version": "3.10.5"
  },
  "orig_nbformat": 4
 },
 "nbformat": 4,
 "nbformat_minor": 2
}
